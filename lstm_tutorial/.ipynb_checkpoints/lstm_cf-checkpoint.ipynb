{
 "cells": [
  {
   "cell_type": "markdown",
   "metadata": {},
   "source": [
    "### Reference\n",
    "### 모두를 위한 딥러닝 Season 2\n",
    "### Lab - 11 - 1 RNN Basic"
   ]
  },
  {
   "cell_type": "code",
   "execution_count": 1,
   "metadata": {},
   "outputs": [],
   "source": [
    "import torch\n",
    "import numpy as np"
   ]
  },
  {
   "cell_type": "code",
   "execution_count": 2,
   "metadata": {},
   "outputs": [],
   "source": [
    "input_size = 4\n",
    "hidden_size = 2"
   ]
  },
  {
   "cell_type": "code",
   "execution_count": 3,
   "metadata": {},
   "outputs": [],
   "source": [
    "# 1-hot encoding\n",
    "h = [1,0,0,0]\n",
    "e = [0,1,0,0]\n",
    "l = [0,0,1,0]\n",
    "o = [0,0,0,1]"
   ]
  },
  {
   "cell_type": "code",
   "execution_count": 5,
   "metadata": {},
   "outputs": [
    {
     "name": "stdout",
     "output_type": "stream",
     "text": [
      "input_data_np.shape : (3, 5, 4)\n"
     ]
    }
   ],
   "source": [
    "input_data_np = np.array([[h,e,l,l,o],\n",
    "                          [e,o,l,l,l],\n",
    "                         [l,l,e,e,l]], dtype=np.float32)\n",
    "\n",
    "# batch, length, input_size\n",
    "print(\"input_data_np.shape : {}\".format(input_data_np.shape))"
   ]
  },
  {
   "cell_type": "code",
   "execution_count": 6,
   "metadata": {},
   "outputs": [],
   "source": [
    "# transform as torch tensor\n",
    "input_data = torch.Tensor(input_data_np)\n",
    "\n",
    "rnn = torch.nn.RNN(input_size, hidden_size)\n",
    "\n",
    "outputs, _status = rnn(input_data)"
   ]
  },
  {
   "cell_type": "code",
   "execution_count": 7,
   "metadata": {},
   "outputs": [
    {
     "name": "stdout",
     "output_type": "stream",
     "text": [
      "outputs.shape : torch.Size([3, 5, 2])\n"
     ]
    }
   ],
   "source": [
    "print(\"outputs.shape : {}\".format(outputs.shape))"
   ]
  },
  {
   "cell_type": "markdown",
   "metadata": {},
   "source": [
    "### Reference\n",
    "### 모두를 위한 딥러닝 Season 2\n",
    "### Lab - 11 - 2 RNN hihello & charseq"
   ]
  },
  {
   "cell_type": "code",
   "execution_count": 11,
   "metadata": {},
   "outputs": [],
   "source": [
    "import torch\n",
    "import torch.optim as optim\n",
    "import numpy as np"
   ]
  },
  {
   "cell_type": "code",
   "execution_count": 12,
   "metadata": {},
   "outputs": [
    {
     "data": {
      "text/plain": [
       "<torch._C.Generator at 0x7f82db165e90>"
      ]
     },
     "execution_count": 12,
     "metadata": {},
     "output_type": "execute_result"
    }
   ],
   "source": [
    "torch.manual_seed(0)"
   ]
  },
  {
   "cell_type": "code",
   "execution_count": 13,
   "metadata": {},
   "outputs": [],
   "source": [
    "sample = \"if i love you\""
   ]
  },
  {
   "cell_type": "code",
   "execution_count": 16,
   "metadata": {},
   "outputs": [
    {
     "name": "stdout",
     "output_type": "stream",
     "text": [
      "char_set : ['o', 'v', 'u', 'e', 'y', 'f', 'i', 'l', ' ']\n"
     ]
    }
   ],
   "source": [
    "# make dictionary\n",
    "char_set = list(set(sample))\n",
    "print(\"char_set : {}\".format(char_set))"
   ]
  },
  {
   "cell_type": "code",
   "execution_count": 18,
   "metadata": {},
   "outputs": [
    {
     "name": "stdout",
     "output_type": "stream",
     "text": [
      "char_dict : {'o': 0, 'v': 1, 'u': 2, 'e': 3, 'y': 4, 'f': 5, 'i': 6, 'l': 7, ' ': 8}\n"
     ]
    }
   ],
   "source": [
    "char_dict = {c: i for i,c in enumerate(char_set)}\n",
    "print(\"char_dict : {}\".format(char_dict))"
   ]
  },
  {
   "cell_type": "code",
   "execution_count": 41,
   "metadata": {},
   "outputs": [
    {
     "name": "stdout",
     "output_type": "stream",
     "text": [
      "* input_size : 9\n",
      "* hidden_size : 9\n"
     ]
    }
   ],
   "source": [
    "# hyper parameters\n",
    "input_size = len(char_dict)\n",
    "hidden_size = len(char_dict)\n",
    "\n",
    "print(\"* input_size : {}\".format(input_size))\n",
    "print(\"* hidden_size : {}\".format(hidden_size))\n",
    "learning_rate = 0.1\n",
    "epoch_size = 50"
   ]
  },
  {
   "cell_type": "code",
   "execution_count": 34,
   "metadata": {},
   "outputs": [
    {
     "name": "stdout",
     "output_type": "stream",
     "text": [
      "* sample_idx : [6, 5, 8, 6, 8, 7, 0, 1, 3, 8, 4, 0, 2]\n",
      "* x_data : [[6, 5, 8, 6, 8, 7, 0, 1, 3, 8, 4, 0]]\n",
      "* x_one_hot : [array([[0., 0., 0., 0., 0., 0., 1., 0., 0.],\n",
      "       [0., 0., 0., 0., 0., 1., 0., 0., 0.],\n",
      "       [0., 0., 0., 0., 0., 0., 0., 0., 1.],\n",
      "       [0., 0., 0., 0., 0., 0., 1., 0., 0.],\n",
      "       [0., 0., 0., 0., 0., 0., 0., 0., 1.],\n",
      "       [0., 0., 0., 0., 0., 0., 0., 1., 0.],\n",
      "       [1., 0., 0., 0., 0., 0., 0., 0., 0.],\n",
      "       [0., 1., 0., 0., 0., 0., 0., 0., 0.],\n",
      "       [0., 0., 0., 1., 0., 0., 0., 0., 0.],\n",
      "       [0., 0., 0., 0., 0., 0., 0., 0., 1.],\n",
      "       [0., 0., 0., 0., 1., 0., 0., 0., 0.],\n",
      "       [1., 0., 0., 0., 0., 0., 0., 0., 0.]])]\n",
      "* y_data : [[5, 8, 6, 8, 7, 0, 1, 3, 8, 4, 0, 2]]\n"
     ]
    }
   ],
   "source": [
    "# data setting\n",
    "sample_idx = [char_dict[c] for c in sample]\n",
    "print(\"* sample_idx : {}\".format(sample_idx))\n",
    "\n",
    "x_data = [sample_idx[:-1]]\n",
    "print(\"* x_data : {}\".format(x_data))\n",
    "\n",
    "x_one_hot = [np.eye(input_size)[x] for x in x_data]\n",
    "print(\"* x_one_hot : {}\".format(x_one_hot))\n",
    "\n",
    "y_data = [sample_idx[1:]]\n",
    "print(\"* y_data : {}\".format(y_data))"
   ]
  },
  {
   "cell_type": "code",
   "execution_count": 42,
   "metadata": {},
   "outputs": [],
   "source": [
    "# transform as torch tensor variable\n",
    "X = torch.FloatTensor(x_one_hot)\n",
    "Y = torch.LongTensor(y_data)"
   ]
  },
  {
   "cell_type": "code",
   "execution_count": 43,
   "metadata": {},
   "outputs": [],
   "source": [
    "# declare RNN\n",
    "rnn = torch.nn.RNN(input_size, hidden_size, batch_first = True)"
   ]
  },
  {
   "cell_type": "code",
   "execution_count": 44,
   "metadata": {},
   "outputs": [],
   "source": [
    "# loss & optimizer setting\n",
    "criterion = torch.nn.CrossEntropyLoss()\n",
    "optimizer = optim.Adam(rnn.parameters(), learning_rate)"
   ]
  },
  {
   "cell_type": "code",
   "execution_count": 46,
   "metadata": {},
   "outputs": [
    {
     "name": "stdout",
     "output_type": "stream",
     "text": [
      "result : [[5 8 6 8 7 0 1 3 8 4 0 2]]\n",
      "result : [[5 8 6 8 7 0 1 3 8 4 0 2]]\n",
      "result : [[5 8 6 8 7 0 1 3 8 4 0 2]]\n",
      "result : [[5 8 6 8 7 0 1 3 8 4 0 2]]\n",
      "result : [[5 8 6 8 7 0 1 3 8 4 0 2]]\n",
      "result : [[5 8 6 8 7 0 1 3 8 4 0 2]]\n",
      "result : [[5 8 6 8 7 0 1 3 8 4 0 2]]\n",
      "result : [[5 8 6 8 7 0 1 3 8 4 0 2]]\n",
      "result : [[5 8 6 8 7 0 1 3 8 4 0 2]]\n",
      "result : [[5 8 6 8 7 0 1 3 8 4 0 2]]\n",
      "result : [[5 8 6 0 7 0 1 3 8 4 0 2]]\n",
      "result : [[5 8 6 0 7 0 1 3 8 4 0 2]]\n",
      "result : [[5 8 6 0 7 0 1 3 8 4 0 2]]\n",
      "result : [[5 8 6 0 7 0 1 3 8 4 0 2]]\n",
      "result : [[5 8 6 0 7 0 1 3 8 4 0 2]]\n",
      "result : [[5 8 6 0 7 0 1 3 8 4 0 2]]\n",
      "result : [[5 8 6 0 7 0 1 3 8 4 0 2]]\n",
      "result : [[5 8 6 0 7 0 1 3 8 4 0 2]]\n",
      "result : [[5 8 6 0 7 0 1 3 8 4 0 2]]\n",
      "result : [[5 8 6 0 7 0 1 3 8 4 0 2]]\n",
      "result : [[5 8 6 0 7 0 1 3 8 4 0 2]]\n",
      "result : [[5 8 6 0 7 0 1 3 8 4 0 2]]\n",
      "result : [[5 8 6 0 7 0 1 3 8 4 0 2]]\n",
      "result : [[5 8 6 8 7 0 1 3 8 4 0 2]]\n",
      "result : [[5 8 6 8 7 0 1 3 8 4 0 2]]\n",
      "result : [[5 8 6 8 7 0 1 3 8 4 0 2]]\n",
      "result : [[5 8 6 8 7 0 1 3 8 4 0 2]]\n",
      "result : [[5 8 6 8 7 0 1 3 8 4 0 2]]\n",
      "result : [[5 8 6 8 7 0 1 3 8 4 0 2]]\n",
      "result : [[5 8 6 8 7 0 1 3 8 4 0 2]]\n",
      "result : [[5 8 6 8 7 0 1 3 8 4 0 2]]\n",
      "result : [[5 8 6 8 7 0 1 3 8 4 0 2]]\n",
      "result : [[5 8 6 8 7 0 1 3 8 4 0 2]]\n",
      "result : [[5 8 6 8 7 0 1 3 8 4 0 2]]\n",
      "result : [[5 8 6 8 7 0 1 3 8 4 0 2]]\n",
      "result : [[5 8 6 8 7 0 1 3 8 4 0 2]]\n",
      "result : [[5 8 6 8 7 0 1 3 8 4 0 2]]\n",
      "result : [[5 8 6 8 7 0 1 3 8 4 0 2]]\n",
      "result : [[5 8 6 8 7 0 1 3 8 4 0 2]]\n",
      "result : [[5 8 6 8 7 0 1 3 8 4 0 2]]\n",
      "result : [[5 8 6 8 7 0 1 3 8 4 0 2]]\n",
      "result : [[5 8 6 8 7 0 1 3 8 4 0 2]]\n",
      "result : [[5 8 6 8 7 0 1 3 8 4 0 2]]\n",
      "result : [[5 8 6 8 7 0 1 3 8 4 0 2]]\n",
      "result : [[5 8 6 8 7 0 1 3 8 4 0 2]]\n",
      "result : [[5 8 6 8 7 0 1 3 8 4 0 2]]\n",
      "result : [[5 8 6 8 7 0 1 3 8 4 0 2]]\n",
      "result : [[5 8 6 8 7 0 1 3 8 4 0 2]]\n",
      "result : [[5 8 6 8 7 0 1 3 8 4 0 2]]\n",
      "result : [[5 8 6 8 7 0 1 3 8 4 0 2]]\n"
     ]
    }
   ],
   "source": [
    "# training\n",
    "for i in range(epoch_size):\n",
    "    optimizer.zero_grad()\n",
    "    \n",
    "    outputs, _status = rnn(X)\n",
    "    \n",
    "    #print(\"outputs.shape : {}\".format(outputs.shape))\n",
    "    #print(\"Y.shape : {}\".format(Y.shape))\n",
    "    \n",
    "    loss = criterion(outputs.view(-1, input_size), Y.view(-1))\n",
    "    loss.backward()\n",
    "    \n",
    "    optimizer.step()\n",
    "    \n",
    "    result = outputs.data.numpy().argmax(axis=2)\n",
    "    #print(\"result : {}\".format(result))\n",
    "    #print(\"result.shape : {}\".format(result.shape))\n",
    "    \n",
    "    #print(\"outputs.view(-1, input_size).shape : {}\".format(outputs.view(-1, input_size).shape))\n",
    "    #print(\"Y.view(-1).shape : {}\".format(Y.view(-1).shape))\n",
    "    "
   ]
  },
  {
   "cell_type": "code",
   "execution_count": null,
   "metadata": {},
   "outputs": [],
   "source": []
  }
 ],
 "metadata": {
  "kernelspec": {
   "display_name": "Python 3",
   "language": "python",
   "name": "python3"
  },
  "language_info": {
   "codemirror_mode": {
    "name": "ipython",
    "version": 3
   },
   "file_extension": ".py",
   "mimetype": "text/x-python",
   "name": "python",
   "nbconvert_exporter": "python",
   "pygments_lexer": "ipython3",
   "version": "3.7.9"
  }
 },
 "nbformat": 4,
 "nbformat_minor": 4
}
