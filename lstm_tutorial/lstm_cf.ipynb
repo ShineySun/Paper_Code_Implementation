{
 "cells": [
  {
   "cell_type": "markdown",
   "metadata": {},
   "source": [
    "### Reference\n",
    "### 모두를 위한 딥러닝 Season 2\n",
    "### Lab - 11 - 1 RNN Basic"
   ]
  },
  {
   "cell_type": "code",
   "execution_count": 1,
   "metadata": {},
   "outputs": [],
   "source": [
    "import torch\n",
    "import numpy as np"
   ]
  },
  {
   "cell_type": "code",
   "execution_count": 2,
   "metadata": {},
   "outputs": [],
   "source": [
    "input_size = 4\n",
    "hidden_size = 2"
   ]
  },
  {
   "cell_type": "code",
   "execution_count": 3,
   "metadata": {},
   "outputs": [],
   "source": [
    "# 1-hot encoding\n",
    "h = [1,0,0,0]\n",
    "e = [0,1,0,0]\n",
    "l = [0,0,1,0]\n",
    "o = [0,0,0,1]"
   ]
  },
  {
   "cell_type": "code",
   "execution_count": 5,
   "metadata": {},
   "outputs": [
    {
     "name": "stdout",
     "output_type": "stream",
     "text": [
      "input_data_np.shape : (3, 5, 4)\n"
     ]
    }
   ],
   "source": [
    "input_data_np = np.array([[h,e,l,l,o],\n",
    "                          [e,o,l,l,l],\n",
    "                         [l,l,e,e,l]], dtype=np.float32)\n",
    "\n",
    "# batch, length, input_size\n",
    "print(\"input_data_np.shape : {}\".format(input_data_np.shape))"
   ]
  },
  {
   "cell_type": "code",
   "execution_count": 6,
   "metadata": {},
   "outputs": [],
   "source": [
    "# transform as torch tensor\n",
    "input_data = torch.Tensor(input_data_np)\n",
    "\n",
    "rnn = torch.nn.RNN(input_size, hidden_size)\n",
    "\n",
    "outputs, _status = rnn(input_data)"
   ]
  },
  {
   "cell_type": "code",
   "execution_count": 7,
   "metadata": {},
   "outputs": [
    {
     "name": "stdout",
     "output_type": "stream",
     "text": [
      "outputs.shape : torch.Size([3, 5, 2])\n"
     ]
    }
   ],
   "source": [
    "print(\"outputs.shape : {}\".format(outputs.shape))"
   ]
  },
  {
   "cell_type": "markdown",
   "metadata": {},
   "source": [
    "### Reference\n",
    "### 모두를 위한 딥러닝 Season 2\n",
    "### Lab - 11 - 2 RNN hihello & charseq"
   ]
  },
  {
   "cell_type": "code",
   "execution_count": 11,
   "metadata": {},
   "outputs": [],
   "source": [
    "import torch\n",
    "import torch.optim as optim\n",
    "import numpy as np"
   ]
  },
  {
   "cell_type": "code",
   "execution_count": 12,
   "metadata": {},
   "outputs": [
    {
     "data": {
      "text/plain": [
       "<torch._C.Generator at 0x7f82db165e90>"
      ]
     },
     "execution_count": 12,
     "metadata": {},
     "output_type": "execute_result"
    }
   ],
   "source": [
    "torch.manual_seed(0)"
   ]
  },
  {
   "cell_type": "code",
   "execution_count": 13,
   "metadata": {},
   "outputs": [],
   "source": [
    "sample = \"if i love you\""
   ]
  },
  {
   "cell_type": "code",
   "execution_count": 16,
   "metadata": {},
   "outputs": [
    {
     "name": "stdout",
     "output_type": "stream",
     "text": [
      "char_set : ['o', 'v', 'u', 'e', 'y', 'f', 'i', 'l', ' ']\n"
     ]
    }
   ],
   "source": [
    "# make dictionary\n",
    "char_set = list(set(sample))\n",
    "print(\"char_set : {}\".format(char_set))"
   ]
  },
  {
   "cell_type": "code",
   "execution_count": 18,
   "metadata": {},
   "outputs": [
    {
     "name": "stdout",
     "output_type": "stream",
     "text": [
      "char_dict : {'o': 0, 'v': 1, 'u': 2, 'e': 3, 'y': 4, 'f': 5, 'i': 6, 'l': 7, ' ': 8}\n"
     ]
    }
   ],
   "source": [
    "char_dict = {c: i for i,c in enumerate(char_set)}\n",
    "print(\"char_dict : {}\".format(char_dict))"
   ]
  },
  {
   "cell_type": "code",
   "execution_count": 49,
   "metadata": {},
   "outputs": [
    {
     "name": "stdout",
     "output_type": "stream",
     "text": [
      "* input_size : 9\n",
      "* hidden_size : 9\n"
     ]
    }
   ],
   "source": [
    "# hyper parameters\n",
    "input_size = len(char_dict)\n",
    "hidden_size = len(char_dict)\n",
    "\n",
    "print(\"* input_size : {}\".format(input_size))\n",
    "print(\"* hidden_size : {}\".format(hidden_size))\n",
    "learning_rate = 0.1\n",
    "epoch_size = 50"
   ]
  },
  {
   "cell_type": "code",
   "execution_count": 50,
   "metadata": {},
   "outputs": [
    {
     "name": "stdout",
     "output_type": "stream",
     "text": [
      "* sample_idx : [6, 5, 8, 6, 8, 7, 0, 1, 3, 8, 4, 0, 2]\n",
      "* x_data : [[6, 5, 8, 6, 8, 7, 0, 1, 3, 8, 4, 0]]\n",
      "* x_one_hot : [array([[0., 0., 0., 0., 0., 0., 1., 0., 0.],\n",
      "       [0., 0., 0., 0., 0., 1., 0., 0., 0.],\n",
      "       [0., 0., 0., 0., 0., 0., 0., 0., 1.],\n",
      "       [0., 0., 0., 0., 0., 0., 1., 0., 0.],\n",
      "       [0., 0., 0., 0., 0., 0., 0., 0., 1.],\n",
      "       [0., 0., 0., 0., 0., 0., 0., 1., 0.],\n",
      "       [1., 0., 0., 0., 0., 0., 0., 0., 0.],\n",
      "       [0., 1., 0., 0., 0., 0., 0., 0., 0.],\n",
      "       [0., 0., 0., 1., 0., 0., 0., 0., 0.],\n",
      "       [0., 0., 0., 0., 0., 0., 0., 0., 1.],\n",
      "       [0., 0., 0., 0., 1., 0., 0., 0., 0.],\n",
      "       [1., 0., 0., 0., 0., 0., 0., 0., 0.]])]\n",
      "* y_data : [[5, 8, 6, 8, 7, 0, 1, 3, 8, 4, 0, 2]]\n"
     ]
    }
   ],
   "source": [
    "# data setting\n",
    "sample_idx = [char_dict[c] for c in sample]\n",
    "print(\"* sample_idx : {}\".format(sample_idx))\n",
    "\n",
    "x_data = [sample_idx[:-1]]\n",
    "print(\"* x_data : {}\".format(x_data))\n",
    "\n",
    "x_one_hot = [np.eye(input_size)[x] for x in x_data]\n",
    "print(\"* x_one_hot : {}\".format(x_one_hot))\n",
    "\n",
    "y_data = [sample_idx[1:]]\n",
    "print(\"* y_data : {}\".format(y_data))"
   ]
  },
  {
   "cell_type": "code",
   "execution_count": 59,
   "metadata": {},
   "outputs": [],
   "source": [
    "# transform as torch tensor variable\n",
    "X = torch.FloatTensor(x_one_hot)\n",
    "Y = torch.LongTensor(y_data)"
   ]
  },
  {
   "cell_type": "code",
   "execution_count": 60,
   "metadata": {},
   "outputs": [],
   "source": [
    "# declare RNN\n",
    "rnn = torch.nn.RNN(input_size, hidden_size, batch_first = True)"
   ]
  },
  {
   "cell_type": "code",
   "execution_count": 61,
   "metadata": {},
   "outputs": [],
   "source": [
    "# loss & optimizer setting\n",
    "criterion = torch.nn.CrossEntropyLoss()\n",
    "optimizer = optim.Adam(rnn.parameters(), learning_rate)"
   ]
  },
  {
   "cell_type": "code",
   "execution_count": 62,
   "metadata": {},
   "outputs": [
    {
     "name": "stdout",
     "output_type": "stream",
     "text": [
      "0 epoch * loss :  2.3501784801483154\n",
      "* prediction :  [[1 2 2 1 2 2 2 4 2 2 2 2]]\n",
      "* true_Y :  [[5, 8, 6, 8, 7, 0, 1, 3, 8, 4, 0, 2]]\n",
      "* prediction_str : vuuvuuuyuuuu\n",
      "1 epoch * loss :  2.054361343383789\n",
      "* prediction :  [[0 4 4 0 4 4 8 4 8 4 4 8]]\n",
      "* true_Y :  [[5, 8, 6, 8, 7, 0, 1, 3, 8, 4, 0, 2]]\n",
      "* prediction_str : oyyoyy y yy \n",
      "2 epoch * loss :  1.8567160367965698\n",
      "* prediction :  [[0 7 0 0 7 0 8 4 8 4 0 8]]\n",
      "* true_Y :  [[5, 8, 6, 8, 7, 0, 1, 3, 8, 4, 0, 2]]\n",
      "* prediction_str : oloolo y yo \n",
      "3 epoch * loss :  1.684675693511963\n",
      "* prediction :  [[0 7 6 0 7 0 8 4 8 4 0 8]]\n",
      "* true_Y :  [[5, 8, 6, 8, 7, 0, 1, 3, 8, 4, 0, 2]]\n",
      "* prediction_str : oliolo y yo \n",
      "4 epoch * loss :  1.5505114793777466\n",
      "* prediction :  [[0 7 6 8 5 0 2 4 8 4 0 2]]\n",
      "* true_Y :  [[5, 8, 6, 8, 7, 0, 1, 3, 8, 4, 0, 2]]\n",
      "* prediction_str : oli fouy you\n",
      "5 epoch * loss :  1.4550174474716187\n",
      "* prediction :  [[0 7 6 8 7 0 2 3 8 4 0 2]]\n",
      "* true_Y :  [[5, 8, 6, 8, 7, 0, 1, 3, 8, 4, 0, 2]]\n",
      "* prediction_str : oli loue you\n",
      "6 epoch * loss :  1.3767147064208984\n",
      "* prediction :  [[8 8 6 8 7 0 2 3 8 4 0 2]]\n",
      "* true_Y :  [[5, 8, 6, 8, 7, 0, 1, 3, 8, 4, 0, 2]]\n",
      "* prediction_str :   i loue you\n",
      "7 epoch * loss :  1.3154064416885376\n",
      "* prediction :  [[8 8 4 8 7 0 2 3 8 4 0 2]]\n",
      "* true_Y :  [[5, 8, 6, 8, 7, 0, 1, 3, 8, 4, 0, 2]]\n",
      "* prediction_str :   y loue you\n",
      "8 epoch * loss :  1.2597395181655884\n",
      "* prediction :  [[8 7 4 8 7 0 1 3 8 4 0 2]]\n",
      "* true_Y :  [[5, 8, 6, 8, 7, 0, 1, 3, 8, 4, 0, 2]]\n",
      "* prediction_str :  ly love you\n",
      "9 epoch * loss :  1.2143689393997192\n",
      "* prediction :  [[8 7 4 8 7 0 1 3 8 4 0 2]]\n",
      "* true_Y :  [[5, 8, 6, 8, 7, 0, 1, 3, 8, 4, 0, 2]]\n",
      "* prediction_str :  ly love you\n",
      "10 epoch * loss :  1.1770670413970947\n",
      "* prediction :  [[8 7 4 8 7 0 1 3 8 4 0 2]]\n",
      "* true_Y :  [[5, 8, 6, 8, 7, 0, 1, 3, 8, 4, 0, 2]]\n",
      "* prediction_str :  ly love you\n",
      "11 epoch * loss :  1.1467152833938599\n",
      "* prediction :  [[8 7 4 8 7 0 1 3 8 4 0 2]]\n",
      "* true_Y :  [[5, 8, 6, 8, 7, 0, 1, 3, 8, 4, 0, 2]]\n",
      "* prediction_str :  ly love you\n",
      "12 epoch * loss :  1.1195415258407593\n",
      "* prediction :  [[8 7 4 8 7 0 2 3 8 4 0 2]]\n",
      "* true_Y :  [[5, 8, 6, 8, 7, 0, 1, 3, 8, 4, 0, 2]]\n",
      "* prediction_str :  ly loue you\n",
      "13 epoch * loss :  1.0915546417236328\n",
      "* prediction :  [[8 7 6 8 7 0 2 3 8 4 0 2]]\n",
      "* true_Y :  [[5, 8, 6, 8, 7, 0, 1, 3, 8, 4, 0, 2]]\n",
      "* prediction_str :  li loue you\n",
      "14 epoch * loss :  1.0647188425064087\n",
      "* prediction :  [[8 7 6 8 7 0 2 3 8 4 0 2]]\n",
      "* true_Y :  [[5, 8, 6, 8, 7, 0, 1, 3, 8, 4, 0, 2]]\n",
      "* prediction_str :  li loue you\n",
      "15 epoch * loss :  1.0366826057434082\n",
      "* prediction :  [[8 7 6 8 7 0 2 3 8 4 0 2]]\n",
      "* true_Y :  [[5, 8, 6, 8, 7, 0, 1, 3, 8, 4, 0, 2]]\n",
      "* prediction_str :  li loue you\n",
      "16 epoch * loss :  1.0152273178100586\n",
      "* prediction :  [[8 8 6 8 7 0 1 3 8 4 0 2]]\n",
      "* true_Y :  [[5, 8, 6, 8, 7, 0, 1, 3, 8, 4, 0, 2]]\n",
      "* prediction_str :   i love you\n",
      "17 epoch * loss :  0.9968598484992981\n",
      "* prediction :  [[8 8 6 8 7 0 1 3 8 4 0 2]]\n",
      "* true_Y :  [[5, 8, 6, 8, 7, 0, 1, 3, 8, 4, 0, 2]]\n",
      "* prediction_str :   i love you\n",
      "18 epoch * loss :  0.9806962013244629\n",
      "* prediction :  [[8 8 6 8 7 0 1 3 8 4 0 2]]\n",
      "* true_Y :  [[5, 8, 6, 8, 7, 0, 1, 3, 8, 4, 0, 2]]\n",
      "* prediction_str :   i love you\n",
      "19 epoch * loss :  0.9686112403869629\n",
      "* prediction :  [[8 8 6 8 7 0 1 3 8 4 0 2]]\n",
      "* true_Y :  [[5, 8, 6, 8, 7, 0, 1, 3, 8, 4, 0, 2]]\n",
      "* prediction_str :   i love you\n",
      "20 epoch * loss :  0.9596787095069885\n",
      "* prediction :  [[8 8 4 8 7 0 1 3 8 4 0 2]]\n",
      "* true_Y :  [[5, 8, 6, 8, 7, 0, 1, 3, 8, 4, 0, 2]]\n",
      "* prediction_str :   y love you\n",
      "21 epoch * loss :  0.9523522853851318\n",
      "* prediction :  [[8 8 4 8 7 0 1 3 8 4 0 2]]\n",
      "* true_Y :  [[5, 8, 6, 8, 7, 0, 1, 3, 8, 4, 0, 2]]\n",
      "* prediction_str :   y love you\n",
      "22 epoch * loss :  0.93951815366745\n",
      "* prediction :  [[8 8 4 8 7 0 1 3 8 4 0 2]]\n",
      "* true_Y :  [[5, 8, 6, 8, 7, 0, 1, 3, 8, 4, 0, 2]]\n",
      "* prediction_str :   y love you\n",
      "23 epoch * loss :  0.9343915581703186\n",
      "* prediction :  [[8 8 4 8 7 0 1 3 8 4 0 2]]\n",
      "* true_Y :  [[5, 8, 6, 8, 7, 0, 1, 3, 8, 4, 0, 2]]\n",
      "* prediction_str :   y love you\n",
      "24 epoch * loss :  0.9415199756622314\n",
      "* prediction :  [[8 8 4 8 7 0 1 3 8 4 0 2]]\n",
      "* true_Y :  [[5, 8, 6, 8, 7, 0, 1, 3, 8, 4, 0, 2]]\n",
      "* prediction_str :   y love you\n",
      "25 epoch * loss :  0.9413596987724304\n",
      "* prediction :  [[8 8 4 8 7 0 1 3 8 4 0 2]]\n",
      "* true_Y :  [[5, 8, 6, 8, 7, 0, 1, 3, 8, 4, 0, 2]]\n",
      "* prediction_str :   y love you\n",
      "26 epoch * loss :  0.9165247082710266\n",
      "* prediction :  [[8 8 4 8 7 0 1 3 8 4 0 2]]\n",
      "* true_Y :  [[5, 8, 6, 8, 7, 0, 1, 3, 8, 4, 0, 2]]\n",
      "* prediction_str :   y love you\n",
      "27 epoch * loss :  0.9714617729187012\n",
      "* prediction :  [[8 8 4 8 7 0 2 3 8 4 0 2]]\n",
      "* true_Y :  [[5, 8, 6, 8, 7, 0, 1, 3, 8, 4, 0, 2]]\n",
      "* prediction_str :   y loue you\n",
      "28 epoch * loss :  0.9149377346038818\n",
      "* prediction :  [[8 8 4 8 7 0 1 3 8 4 0 2]]\n",
      "* true_Y :  [[5, 8, 6, 8, 7, 0, 1, 3, 8, 4, 0, 2]]\n",
      "* prediction_str :   y love you\n",
      "29 epoch * loss :  0.9155243039131165\n",
      "* prediction :  [[8 8 4 8 7 0 1 3 8 4 0 2]]\n",
      "* true_Y :  [[5, 8, 6, 8, 7, 0, 1, 3, 8, 4, 0, 2]]\n",
      "* prediction_str :   y love you\n",
      "30 epoch * loss :  0.9205130934715271\n",
      "* prediction :  [[8 8 4 8 7 0 1 3 8 4 0 2]]\n",
      "* true_Y :  [[5, 8, 6, 8, 7, 0, 1, 3, 8, 4, 0, 2]]\n",
      "* prediction_str :   y love you\n",
      "31 epoch * loss :  0.9193171858787537\n",
      "* prediction :  [[8 8 4 8 7 0 1 3 8 4 0 2]]\n",
      "* true_Y :  [[5, 8, 6, 8, 7, 0, 1, 3, 8, 4, 0, 2]]\n",
      "* prediction_str :   y love you\n",
      "32 epoch * loss :  0.9110136032104492\n",
      "* prediction :  [[8 8 4 8 7 0 1 3 8 4 0 2]]\n",
      "* true_Y :  [[5, 8, 6, 8, 7, 0, 1, 3, 8, 4, 0, 2]]\n",
      "* prediction_str :   y love you\n",
      "33 epoch * loss :  0.900017261505127\n",
      "* prediction :  [[8 8 4 8 7 0 1 3 8 4 0 2]]\n",
      "* true_Y :  [[5, 8, 6, 8, 7, 0, 1, 3, 8, 4, 0, 2]]\n",
      "* prediction_str :   y love you\n",
      "34 epoch * loss :  0.8934932351112366\n",
      "* prediction :  [[8 8 4 8 7 0 1 3 8 4 0 2]]\n",
      "* true_Y :  [[5, 8, 6, 8, 7, 0, 1, 3, 8, 4, 0, 2]]\n",
      "* prediction_str :   y love you\n",
      "35 epoch * loss :  0.8915760517120361\n",
      "* prediction :  [[8 8 4 8 7 0 1 3 8 4 0 2]]\n",
      "* true_Y :  [[5, 8, 6, 8, 7, 0, 1, 3, 8, 4, 0, 2]]\n",
      "* prediction_str :   y love you\n",
      "36 epoch * loss :  0.8910155892372131\n",
      "* prediction :  [[8 8 4 8 7 0 1 3 8 4 0 2]]\n",
      "* true_Y :  [[5, 8, 6, 8, 7, 0, 1, 3, 8, 4, 0, 2]]\n",
      "* prediction_str :   y love you\n",
      "37 epoch * loss :  0.8870719075202942\n",
      "* prediction :  [[8 8 6 8 7 0 1 3 8 4 0 2]]\n",
      "* true_Y :  [[5, 8, 6, 8, 7, 0, 1, 3, 8, 4, 0, 2]]\n",
      "* prediction_str :   i love you\n",
      "38 epoch * loss :  0.8821888566017151\n",
      "* prediction :  [[8 8 6 8 7 0 1 3 8 4 0 2]]\n",
      "* true_Y :  [[5, 8, 6, 8, 7, 0, 1, 3, 8, 4, 0, 2]]\n",
      "* prediction_str :   i love you\n",
      "39 epoch * loss :  0.8791530132293701\n",
      "* prediction :  [[8 8 6 8 7 0 1 3 8 4 0 2]]\n",
      "* true_Y :  [[5, 8, 6, 8, 7, 0, 1, 3, 8, 4, 0, 2]]\n",
      "* prediction_str :   i love you\n",
      "40 epoch * loss :  0.8785561919212341\n",
      "* prediction :  [[8 8 4 8 7 0 1 3 8 4 0 2]]\n",
      "* true_Y :  [[5, 8, 6, 8, 7, 0, 1, 3, 8, 4, 0, 2]]\n",
      "* prediction_str :   y love you\n",
      "41 epoch * loss :  0.8784865736961365\n",
      "* prediction :  [[8 8 4 8 7 0 1 3 8 4 0 2]]\n",
      "* true_Y :  [[5, 8, 6, 8, 7, 0, 1, 3, 8, 4, 0, 2]]\n",
      "* prediction_str :   y love you\n",
      "42 epoch * loss :  0.8760034441947937\n",
      "* prediction :  [[8 8 6 8 7 0 1 3 8 4 0 2]]\n",
      "* true_Y :  [[5, 8, 6, 8, 7, 0, 1, 3, 8, 4, 0, 2]]\n",
      "* prediction_str :   i love you\n",
      "43 epoch * loss :  0.8736756443977356\n",
      "* prediction :  [[8 8 6 8 7 0 1 3 8 4 0 2]]\n",
      "* true_Y :  [[5, 8, 6, 8, 7, 0, 1, 3, 8, 4, 0, 2]]\n",
      "* prediction_str :   i love you\n",
      "44 epoch * loss :  0.8695829510688782\n",
      "* prediction :  [[8 8 6 8 7 0 1 3 8 4 0 2]]\n",
      "* true_Y :  [[5, 8, 6, 8, 7, 0, 1, 3, 8, 4, 0, 2]]\n",
      "* prediction_str :   i love you\n",
      "45 epoch * loss :  0.866485059261322\n",
      "* prediction :  [[8 8 4 8 7 0 1 3 8 4 0 2]]\n",
      "* true_Y :  [[5, 8, 6, 8, 7, 0, 1, 3, 8, 4, 0, 2]]\n",
      "* prediction_str :   y love you\n",
      "46 epoch * loss :  0.8642955422401428\n",
      "* prediction :  [[8 8 4 8 7 0 1 3 8 4 0 2]]\n",
      "* true_Y :  [[5, 8, 6, 8, 7, 0, 1, 3, 8, 4, 0, 2]]\n",
      "* prediction_str :   y love you\n",
      "47 epoch * loss :  0.8626449704170227\n",
      "* prediction :  [[8 8 4 8 7 0 1 3 8 4 0 2]]\n",
      "* true_Y :  [[5, 8, 6, 8, 7, 0, 1, 3, 8, 4, 0, 2]]\n",
      "* prediction_str :   y love you\n",
      "48 epoch * loss :  0.8623157143592834\n",
      "* prediction :  [[8 8 4 8 7 0 1 3 8 4 0 2]]\n",
      "* true_Y :  [[5, 8, 6, 8, 7, 0, 1, 3, 8, 4, 0, 2]]\n",
      "* prediction_str :   y love you\n",
      "49 epoch * loss :  0.8612802028656006\n",
      "* prediction :  [[8 8 4 8 7 0 1 3 8 4 0 2]]\n",
      "* true_Y :  [[5, 8, 6, 8, 7, 0, 1, 3, 8, 4, 0, 2]]\n",
      "* prediction_str :   y love you\n"
     ]
    }
   ],
   "source": [
    "# training\n",
    "for i in range(epoch_size):\n",
    "    optimizer.zero_grad()\n",
    "    \n",
    "    outputs, _status = rnn(X)\n",
    "    \n",
    "    #print(\"outputs.shape : {}\".format(outputs.shape))\n",
    "    #print(\"Y.shape : {}\".format(Y.shape))\n",
    "    \n",
    "    loss = criterion(outputs.view(-1, input_size), Y.view(-1))\n",
    "    loss.backward()\n",
    "    \n",
    "    optimizer.step()\n",
    "    \n",
    "    result = outputs.data.numpy().argmax(axis=2)\n",
    "    #print(\"result : {}\".format(result))\n",
    "    #print(\"result.shape : {}\".format(result.shape))\n",
    "    \n",
    "    #print(\"outputs.view(-1, input_size).shape : {}\".format(outputs.view(-1, input_size).shape))\n",
    "    #print(\"Y.view(-1).shape : {}\".format(Y.view(-1).shape))\n",
    "    result_str = ''.join([char_set[c] for c in np.squeeze(result)])\n",
    "    \n",
    "    print(i, \"epoch * loss : \", loss.item())\n",
    "    print(\"* prediction : \", result)\n",
    "    print(\"* true_Y : \", y_data) \n",
    "    print(\"* prediction_str :\", result_str)\n",
    "    "
   ]
  },
  {
   "cell_type": "code",
   "execution_count": null,
   "metadata": {},
   "outputs": [],
   "source": []
  }
 ],
 "metadata": {
  "kernelspec": {
   "display_name": "Python 3",
   "language": "python",
   "name": "python3"
  },
  "language_info": {
   "codemirror_mode": {
    "name": "ipython",
    "version": 3
   },
   "file_extension": ".py",
   "mimetype": "text/x-python",
   "name": "python",
   "nbconvert_exporter": "python",
   "pygments_lexer": "ipython3",
   "version": "3.7.9"
  }
 },
 "nbformat": 4,
 "nbformat_minor": 4
}
